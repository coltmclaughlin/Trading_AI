{
 "cells": [
  {
   "cell_type": "code",
   "execution_count": null,
   "metadata": {
    "collapsed": true
   },
   "outputs": [],
   "source": []
  },
  {
   "cell_type": "code",
   "execution_count": null,
   "outputs": [],
   "source": [
    "data_url = \"https://eodhistoricaldata.com/api/intraday/BNB-USD.CC?fmt=json&&api_token=649c6a4cc9adc3.44222266&interval=1h\""
   ],
   "metadata": {
    "collapsed": false
   }
  },
  {
   "cell_type": "code",
   "execution_count": 1,
   "outputs": [
    {
     "name": "stdout",
     "output_type": "stream",
     "text": [
      "2022-10-04 15:37:28.383121\n"
     ]
    }
   ],
   "source": [
    "import datetime\n",
    "\n",
    "# Convert Unix timestamp to datetime\n",
    "timestamp = 1664912248.383121\n",
    "dt = datetime.datetime.fromtimestamp(timestamp)\n",
    "\n",
    "# Print the datetime object\n",
    "print(dt)"
   ],
   "metadata": {
    "collapsed": false,
    "ExecuteTime": {
     "end_time": "2023-07-31T19:41:20.797880500Z",
     "start_time": "2023-07-31T19:41:20.760676300Z"
    }
   }
  },
  {
   "cell_type": "code",
   "execution_count": null,
   "outputs": [],
   "source": [
    "\"https://eodhistoricaldata.com/api/news?api_token=demo&s=EURJPY.FOREX&offset=0&limit=10\""
   ],
   "metadata": {
    "collapsed": false
   }
  }
 ],
 "metadata": {
  "kernelspec": {
   "display_name": "Python 3",
   "language": "python",
   "name": "python3"
  },
  "language_info": {
   "codemirror_mode": {
    "name": "ipython",
    "version": 2
   },
   "file_extension": ".py",
   "mimetype": "text/x-python",
   "name": "python",
   "nbconvert_exporter": "python",
   "pygments_lexer": "ipython2",
   "version": "2.7.6"
  }
 },
 "nbformat": 4,
 "nbformat_minor": 0
}
